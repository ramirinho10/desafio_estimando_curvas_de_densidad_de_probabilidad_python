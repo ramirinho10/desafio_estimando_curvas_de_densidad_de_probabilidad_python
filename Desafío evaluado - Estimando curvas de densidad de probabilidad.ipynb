{
 "cells": [
  {
   "cell_type": "markdown",
   "id": "63b0c88c",
   "metadata": {},
   "source": [
    "<h1 style=\"text-align: center;\">Desafío - Estimando curvas de densidad de probabilidad</h1>\n",
    "\n",
    "- Para realizar este desafío debes haber estudiado previamente todo el material disponible correspondiente a la unidad.\n",
    "- Una vez terminado el desafío, comprime la carpeta que contiene el desarrollo de los requerimientos solicitados y sube el .zip en el LMS.\n",
    "- Desarrollo desafío:\n",
    "    - El desafío se debe desarrollar de manera Individual."
   ]
  },
  {
   "cell_type": "markdown",
   "id": "3b2135dd",
   "metadata": {},
   "source": [
    "## Habilidades a evaluar\n",
    "- Conocer las convenciones y principios rectores de la visualización de gráficos.\n",
    "- Describir la Ley de los Grandes Números y Teorema del Límite Central y su importancia en la inferencia estadística."
   ]
  },
  {
   "cell_type": "markdown",
   "id": "0ca7558f",
   "metadata": {},
   "source": [
    "## Descripción\n",
    "La empresa en la cual usted trabaja quedó muy satisfecha con su análisis anterior del Índice de Desarrollo Humano (IDH) de diversos países, el cual se elaboró para el Ministerio de\n",
    "Relaciones Exteriores a fin de poder contar con la data necesaria para poder comenzar a trabajar en relaciones diplomáticas más estrechas con diversos países. Por consiguiente, esta vez le solicitan que, a partir del trabajo hecho en el Desafío precedente, usted pueda seguir profundizando en la base de datos Quality of Government, de la Universidad de Gotemburgo."
   ]
  },
  {
   "cell_type": "markdown",
   "id": "3b5249eb",
   "metadata": {},
   "source": [
    "## Requerimientos\n",
    "A continuación, revisaremos los requerimientos y acciones que el Ministerio de RREE te pide realizar.\n",
    "\n",
    "### 1. Importar un csv (2 puntos): Importe el set de datos creados por usted al final de la sesión pasada"
   ]
  },
  {
   "cell_type": "code",
   "execution_count": 46,
   "id": "842491e8",
   "metadata": {},
   "outputs": [
    {
     "data": {
      "text/html": [
       "<div>\n",
       "<style scoped>\n",
       "    .dataframe tbody tr th:only-of-type {\n",
       "        vertical-align: middle;\n",
       "    }\n",
       "\n",
       "    .dataframe tbody tr th {\n",
       "        vertical-align: top;\n",
       "    }\n",
       "\n",
       "    .dataframe thead th {\n",
       "        text-align: right;\n",
       "    }\n",
       "</style>\n",
       "<table border=\"1\" class=\"dataframe\">\n",
       "  <thead>\n",
       "    <tr style=\"text-align: right;\">\n",
       "      <th></th>\n",
       "      <th>undp_hdi</th>\n",
       "      <th>ccodealp</th>\n",
       "      <th>ht_region</th>\n",
       "      <th>gle_cgdpc</th>\n",
       "      <th>imf_pop</th>\n",
       "      <th>wef_imort</th>\n",
       "      <th>who_alc2000</th>\n",
       "      <th>who_tobt</th>\n",
       "      <th>wdi_exph</th>\n",
       "      <th>cname</th>\n",
       "    </tr>\n",
       "  </thead>\n",
       "  <tbody>\n",
       "    <tr>\n",
       "      <th>0</th>\n",
       "      <td>0.495</td>\n",
       "      <td>LSO</td>\n",
       "      <td>SubSaharian</td>\n",
       "      <td>1539.79000</td>\n",
       "      <td>NaN</td>\n",
       "      <td>74.199997</td>\n",
       "      <td>2.39</td>\n",
       "      <td>25.400000</td>\n",
       "      <td>10.617677</td>\n",
       "      <td>Lesotho</td>\n",
       "    </tr>\n",
       "    <tr>\n",
       "      <th>1</th>\n",
       "      <td>0.790</td>\n",
       "      <td>BHS</td>\n",
       "      <td>Caribbean</td>\n",
       "      <td>21672.02900</td>\n",
       "      <td>0.356</td>\n",
       "      <td>NaN</td>\n",
       "      <td>9.45</td>\n",
       "      <td>NaN</td>\n",
       "      <td>7.742365</td>\n",
       "      <td>Bahamas</td>\n",
       "    </tr>\n",
       "    <tr>\n",
       "      <th>2</th>\n",
       "      <td>0.784</td>\n",
       "      <td>ATG</td>\n",
       "      <td>Caribbean</td>\n",
       "      <td>12257.71000</td>\n",
       "      <td>NaN</td>\n",
       "      <td>NaN</td>\n",
       "      <td>8.56</td>\n",
       "      <td>NaN</td>\n",
       "      <td>5.541683</td>\n",
       "      <td>Antigua and Barbuda</td>\n",
       "    </tr>\n",
       "    <tr>\n",
       "      <th>3</th>\n",
       "      <td>0.894</td>\n",
       "      <td>FRA</td>\n",
       "      <td>WesternDem</td>\n",
       "      <td>34007.89800</td>\n",
       "      <td>64.028</td>\n",
       "      <td>3.400000</td>\n",
       "      <td>11.50</td>\n",
       "      <td>28.100000</td>\n",
       "      <td>11.539519</td>\n",
       "      <td>France (1963-)</td>\n",
       "    </tr>\n",
       "    <tr>\n",
       "      <th>4</th>\n",
       "      <td>0.414</td>\n",
       "      <td>MOZ</td>\n",
       "      <td>SubSaharian</td>\n",
       "      <td>852.39001</td>\n",
       "      <td>25.733</td>\n",
       "      <td>63.099998</td>\n",
       "      <td>1.16</td>\n",
       "      <td>18.799999</td>\n",
       "      <td>6.975582</td>\n",
       "      <td>Mozambique</td>\n",
       "    </tr>\n",
       "  </tbody>\n",
       "</table>\n",
       "</div>"
      ],
      "text/plain": [
       "   undp_hdi ccodealp    ht_region    gle_cgdpc  imf_pop  wef_imort  \\\n",
       "0     0.495      LSO  SubSaharian   1539.79000      NaN  74.199997   \n",
       "1     0.790      BHS    Caribbean  21672.02900    0.356        NaN   \n",
       "2     0.784      ATG    Caribbean  12257.71000      NaN        NaN   \n",
       "3     0.894      FRA   WesternDem  34007.89800   64.028   3.400000   \n",
       "4     0.414      MOZ  SubSaharian    852.39001   25.733  63.099998   \n",
       "\n",
       "   who_alc2000   who_tobt   wdi_exph                cname  \n",
       "0         2.39  25.400000  10.617677              Lesotho  \n",
       "1         9.45        NaN   7.742365              Bahamas  \n",
       "2         8.56        NaN   5.541683  Antigua and Barbuda  \n",
       "3        11.50  28.100000  11.539519       France (1963-)  \n",
       "4         1.16  18.799999   6.975582           Mozambique  "
      ]
     },
     "execution_count": 46,
     "metadata": {},
     "output_type": "execute_result"
    }
   ],
   "source": [
    "# Utiliza esta celda para importar módulos y el set de datos\n",
    "\n",
    "import pandas as pd\n",
    "import numpy as np\n",
    "import matplotlib.pyplot as plt\n",
    "df = pd.read_csv('subsample_RS_demo.csv')\n",
    "df.head()"
   ]
  },
  {
   "cell_type": "markdown",
   "id": "5c631046",
   "metadata": {},
   "source": [
    "### 2. Importar su conjunto de funciones (2 puntos). Para ello deberás:\n",
    "- Generar un archivo `ancilliary_funcs.py` para guardar las funciones creadas en la sesión pasada e importe.\n",
    "- Utilizar las funciones creadas para inspeccionar la cantidad de casos perdidos de la muestra importada."
   ]
  },
  {
   "cell_type": "code",
   "execution_count": 47,
   "id": "c162dad0",
   "metadata": {},
   "outputs": [],
   "source": [
    "# Utiliza esta celda para importar ancilliary_funcs. Recordar que el archivo debe estar en la misma ruta del notebook, y no se debe incluir el .py\n",
    "import ancilliary_funcs as fun"
   ]
  },
  {
   "cell_type": "code",
   "execution_count": 48,
   "id": "005bd14a",
   "metadata": {},
   "outputs": [
    {
     "name": "stdout",
     "output_type": "stream",
     "text": [
      "La columna undp_hdi tiene 4 de casos perdidos\n",
      "La columna ccodealp tiene 0 de casos perdidos\n",
      "La columna ht_region tiene 0 de casos perdidos\n",
      "La columna gle_cgdpc tiene 0 de casos perdidos\n",
      "La columna imf_pop tiene 29 de casos perdidos\n",
      "La columna wef_imort tiene 22 de casos perdidos\n",
      "La columna who_alc2000 tiene 5 de casos perdidos\n",
      "La columna who_tobt tiene 39 de casos perdidos\n",
      "La columna wdi_exph tiene 1 de casos perdidos\n",
      "La columna cname tiene 0 de casos perdidos\n"
     ]
    }
   ],
   "source": [
    "# Utiliza esta celda para inspeccionar los datos nulos\n",
    "for var in df.columns:\n",
    "    cantidad, _, _ = fun.fetch_null_cases(df, var, print_list=True)\n",
    "    print(f\"La columna {var} tiene {cantidad} de casos perdidos\")"
   ]
  },
  {
   "cell_type": "code",
   "execution_count": 53,
   "id": "7110f8e7",
   "metadata": {},
   "outputs": [
    {
     "data": {
      "text/plain": [
       "(       ccodealp    ht_region    cname\n",
       " count        97           97       97\n",
       " unique       97           10       97\n",
       " top         LSO  SubSaharian  Lesotho\n",
       " freq          1           27        1,\n",
       "         undp_hdi      gle_cgdpc     imf_pop  wef_imort  who_alc2000  \\\n",
       " count  93.000000      97.000000   68.000000  75.000000    92.000000   \n",
       " mean    0.691505   15509.761373   25.593471  25.490667     4.869130   \n",
       " std     0.159842   19528.486559   41.687245  22.792490     3.745891   \n",
       " min     0.347000     324.160000    0.011000   1.700000     0.000000   \n",
       " 25%     0.548000    2685.500000    1.222250   6.100000     1.312500   \n",
       " 50%     0.724000    9610.599600    7.184500  15.100000     4.445000   \n",
       " 75%     0.804000   19768.039000   32.477500  43.100000     8.052500   \n",
       " max     0.924000  108481.130000  202.768997  76.199997    12.680000   \n",
       " \n",
       "         who_tobt   wdi_exph  \n",
       " count  58.000000  96.000000  \n",
       " mean   23.043104   6.655695  \n",
       " std    10.687000   2.525623  \n",
       " min     7.000000   2.067386  \n",
       " 25%    16.125000   4.966767  \n",
       " 50%    20.149999   6.397918  \n",
       " 75%    29.300001   7.804508  \n",
       " max    54.000000  16.536638  )"
      ]
     },
     "execution_count": 53,
     "metadata": {},
     "output_type": "execute_result"
    }
   ],
   "source": [
    "fun.fetch_descriptives(df, df.columns)"
   ]
  },
  {
   "cell_type": "markdown",
   "id": "d1fa96b9",
   "metadata": {},
   "source": [
    "### 3. Estimar el puntaje Z de una variable (2 puntos): Se debe utilizar la que posea la menor cantidad de datos perdidos (o que no posea).\n",
    "- Generar una nueva columna en la tabla de datos que contenga el puntaje Z de dicha variable. Recuerde que para calcular el puntaje z de una observación se utiliza la fórmula:\n",
    "$$\n",
    "\\begin{align}\n",
    "z_i = (x_i - \\bar X / \\sigma)\n",
    "\\end{align}\n",
    "$$\n",
    "\n",
    "- Para ordenar los valores pueden utilizar la función `sort_values` del DataFrame analizado. Lean la documentación asociada al parámetro `by`.\n",
    "- Asegúrense de eliminar las observaciones que tengan valores perdidos con `dropna`. Lean la documentación asociada al argumento `subset`.\n",
    "- Seleccionen las primeras y últimas 10 observaciones de la base reordenada."
   ]
  },
  {
   "cell_type": "code",
   "execution_count": 54,
   "id": "6f62f7ea",
   "metadata": {},
   "outputs": [
    {
     "data": {
      "text/plain": [
       "undp_hdi       float64\n",
       "ccodealp        object\n",
       "ht_region       object\n",
       "gle_cgdpc      float64\n",
       "imf_pop        float64\n",
       "wef_imort      float64\n",
       "who_alc2000    float64\n",
       "who_tobt       float64\n",
       "wdi_exph       float64\n",
       "cname           object\n",
       "dtype: object"
      ]
     },
     "execution_count": 54,
     "metadata": {},
     "output_type": "execute_result"
    }
   ],
   "source": [
    "df.dtypes"
   ]
  },
  {
   "cell_type": "code",
   "execution_count": 63,
   "id": "d1a67b4b",
   "metadata": {},
   "outputs": [
    {
     "data": {
      "text/plain": [
       "ccodealp        0\n",
       "ht_region       0\n",
       "gle_cgdpc       0\n",
       "cname           0\n",
       "wdi_exph        1\n",
       "undp_hdi        4\n",
       "who_alc2000     5\n",
       "wef_imort      22\n",
       "imf_pop        29\n",
       "who_tobt       39\n",
       "dtype: int64"
      ]
     },
     "execution_count": 63,
     "metadata": {},
     "output_type": "execute_result"
    }
   ],
   "source": [
    "ind = df.isnull().sum().sort_values(ascending=True)\n",
    "ind"
   ]
  },
  {
   "cell_type": "code",
   "execution_count": 65,
   "id": "eb6dd41a",
   "metadata": {},
   "outputs": [
    {
     "data": {
      "text/plain": [
       "'gle_cgdpc'"
      ]
     },
     "execution_count": 65,
     "metadata": {},
     "output_type": "execute_result"
    }
   ],
   "source": [
    "# Utiliza esta celda para generar el puntaje z, ordenar los valores con sort_values, y eliminar los datos nulos con dropna\n",
    "ind = df.isnull().sum().sort_values().index[2]\n",
    "ind"
   ]
  },
  {
   "cell_type": "code",
   "execution_count": 76,
   "id": "d5959fe8",
   "metadata": {},
   "outputs": [
    {
     "data": {
      "text/html": [
       "<div>\n",
       "<style scoped>\n",
       "    .dataframe tbody tr th:only-of-type {\n",
       "        vertical-align: middle;\n",
       "    }\n",
       "\n",
       "    .dataframe tbody tr th {\n",
       "        vertical-align: top;\n",
       "    }\n",
       "\n",
       "    .dataframe thead th {\n",
       "        text-align: right;\n",
       "    }\n",
       "</style>\n",
       "<table border=\"1\" class=\"dataframe\">\n",
       "  <thead>\n",
       "    <tr style=\"text-align: right;\">\n",
       "      <th></th>\n",
       "      <th>undp_hdi</th>\n",
       "      <th>ccodealp</th>\n",
       "      <th>ht_region</th>\n",
       "      <th>gle_cgdpc</th>\n",
       "      <th>imf_pop</th>\n",
       "      <th>wef_imort</th>\n",
       "      <th>who_alc2000</th>\n",
       "      <th>who_tobt</th>\n",
       "      <th>wdi_exph</th>\n",
       "      <th>cname</th>\n",
       "      <th>var_Z</th>\n",
       "    </tr>\n",
       "  </thead>\n",
       "  <tbody>\n",
       "    <tr>\n",
       "      <th>78</th>\n",
       "      <td>0.425</td>\n",
       "      <td>COD</td>\n",
       "      <td>SubSaharian</td>\n",
       "      <td>324.16000</td>\n",
       "      <td>NaN</td>\n",
       "      <td>74.500000</td>\n",
       "      <td>1.82</td>\n",
       "      <td>NaN</td>\n",
       "      <td>4.328234</td>\n",
       "      <td>Congo, Democratic Republic</td>\n",
       "      <td>-0.777613</td>\n",
       "    </tr>\n",
       "    <tr>\n",
       "      <th>21</th>\n",
       "      <td>0.678</td>\n",
       "      <td>SLV</td>\n",
       "      <td>LatAm</td>\n",
       "      <td>332.26999</td>\n",
       "      <td>NaN</td>\n",
       "      <td>13.600000</td>\n",
       "      <td>2.52</td>\n",
       "      <td>NaN</td>\n",
       "      <td>6.772403</td>\n",
       "      <td>El Salvador</td>\n",
       "      <td>-0.777198</td>\n",
       "    </tr>\n",
       "    <tr>\n",
       "      <th>39</th>\n",
       "      <td>0.406</td>\n",
       "      <td>BDI</td>\n",
       "      <td>SubSaharian</td>\n",
       "      <td>663.57001</td>\n",
       "      <td>NaN</td>\n",
       "      <td>66.900002</td>\n",
       "      <td>4.16</td>\n",
       "      <td>NaN</td>\n",
       "      <td>7.535565</td>\n",
       "      <td>Burundi</td>\n",
       "      <td>-0.760233</td>\n",
       "    </tr>\n",
       "    <tr>\n",
       "      <th>79</th>\n",
       "      <td>0.347</td>\n",
       "      <td>CAF</td>\n",
       "      <td>SubSaharian</td>\n",
       "      <td>690.03998</td>\n",
       "      <td>NaN</td>\n",
       "      <td>NaN</td>\n",
       "      <td>1.66</td>\n",
       "      <td>NaN</td>\n",
       "      <td>4.200222</td>\n",
       "      <td>Central African Republic</td>\n",
       "      <td>-0.758877</td>\n",
       "    </tr>\n",
       "    <tr>\n",
       "      <th>84</th>\n",
       "      <td>0.511</td>\n",
       "      <td>MDG</td>\n",
       "      <td>SubSaharian</td>\n",
       "      <td>822.62000</td>\n",
       "      <td>NaN</td>\n",
       "      <td>40.900002</td>\n",
       "      <td>0.87</td>\n",
       "      <td>NaN</td>\n",
       "      <td>3.041355</td>\n",
       "      <td>Madagascar</td>\n",
       "      <td>-0.752088</td>\n",
       "    </tr>\n",
       "    <tr>\n",
       "      <th>4</th>\n",
       "      <td>0.414</td>\n",
       "      <td>MOZ</td>\n",
       "      <td>SubSaharian</td>\n",
       "      <td>852.39001</td>\n",
       "      <td>25.733</td>\n",
       "      <td>63.099998</td>\n",
       "      <td>1.16</td>\n",
       "      <td>18.799999</td>\n",
       "      <td>6.975582</td>\n",
       "      <td>Mozambique</td>\n",
       "      <td>-0.750564</td>\n",
       "    </tr>\n",
       "    <tr>\n",
       "      <th>51</th>\n",
       "      <td>0.473</td>\n",
       "      <td>MWI</td>\n",
       "      <td>SubSaharian</td>\n",
       "      <td>938.34998</td>\n",
       "      <td>17.604</td>\n",
       "      <td>46.000000</td>\n",
       "      <td>1.23</td>\n",
       "      <td>16.299999</td>\n",
       "      <td>11.377956</td>\n",
       "      <td>Malawi</td>\n",
       "      <td>-0.746162</td>\n",
       "    </tr>\n",
       "    <tr>\n",
       "      <th>20</th>\n",
       "      <td>0.498</td>\n",
       "      <td>COM</td>\n",
       "      <td>SubSaharian</td>\n",
       "      <td>972.35999</td>\n",
       "      <td>0.776</td>\n",
       "      <td>NaN</td>\n",
       "      <td>0.12</td>\n",
       "      <td>15.300000</td>\n",
       "      <td>6.747643</td>\n",
       "      <td>Comoros</td>\n",
       "      <td>-0.744420</td>\n",
       "    </tr>\n",
       "    <tr>\n",
       "      <th>22</th>\n",
       "      <td>0.414</td>\n",
       "      <td>GIN</td>\n",
       "      <td>SubSaharian</td>\n",
       "      <td>993.83002</td>\n",
       "      <td>11.745</td>\n",
       "      <td>65.199997</td>\n",
       "      <td>0.22</td>\n",
       "      <td>NaN</td>\n",
       "      <td>5.644798</td>\n",
       "      <td>Guinea</td>\n",
       "      <td>-0.743321</td>\n",
       "    </tr>\n",
       "    <tr>\n",
       "      <th>50</th>\n",
       "      <td>0.418</td>\n",
       "      <td>ERI</td>\n",
       "      <td>SubSaharian</td>\n",
       "      <td>1007.28000</td>\n",
       "      <td>NaN</td>\n",
       "      <td>NaN</td>\n",
       "      <td>0.62</td>\n",
       "      <td>NaN</td>\n",
       "      <td>3.338293</td>\n",
       "      <td>Eritrea</td>\n",
       "      <td>-0.742632</td>\n",
       "    </tr>\n",
       "  </tbody>\n",
       "</table>\n",
       "</div>"
      ],
      "text/plain": [
       "    undp_hdi ccodealp    ht_region   gle_cgdpc  imf_pop  wef_imort  \\\n",
       "78     0.425      COD  SubSaharian   324.16000      NaN  74.500000   \n",
       "21     0.678      SLV        LatAm   332.26999      NaN  13.600000   \n",
       "39     0.406      BDI  SubSaharian   663.57001      NaN  66.900002   \n",
       "79     0.347      CAF  SubSaharian   690.03998      NaN        NaN   \n",
       "84     0.511      MDG  SubSaharian   822.62000      NaN  40.900002   \n",
       "4      0.414      MOZ  SubSaharian   852.39001   25.733  63.099998   \n",
       "51     0.473      MWI  SubSaharian   938.34998   17.604  46.000000   \n",
       "20     0.498      COM  SubSaharian   972.35999    0.776        NaN   \n",
       "22     0.414      GIN  SubSaharian   993.83002   11.745  65.199997   \n",
       "50     0.418      ERI  SubSaharian  1007.28000      NaN        NaN   \n",
       "\n",
       "    who_alc2000   who_tobt   wdi_exph                       cname     var_Z  \n",
       "78         1.82        NaN   4.328234  Congo, Democratic Republic -0.777613  \n",
       "21         2.52        NaN   6.772403                 El Salvador -0.777198  \n",
       "39         4.16        NaN   7.535565                     Burundi -0.760233  \n",
       "79         1.66        NaN   4.200222    Central African Republic -0.758877  \n",
       "84         0.87        NaN   3.041355                  Madagascar -0.752088  \n",
       "4          1.16  18.799999   6.975582                  Mozambique -0.750564  \n",
       "51         1.23  16.299999  11.377956                      Malawi -0.746162  \n",
       "20         0.12  15.300000   6.747643                     Comoros -0.744420  \n",
       "22         0.22        NaN   5.644798                      Guinea -0.743321  \n",
       "50         0.62        NaN   3.338293                     Eritrea -0.742632  "
      ]
     },
     "execution_count": 76,
     "metadata": {},
     "output_type": "execute_result"
    }
   ],
   "source": [
    "# Utiliza esta celda para seleccionar y mostrar las primeras 10 observaciones\n",
    "\n",
    "var = df.loc[:,ind]\n",
    "df['var_Z'] = (var - var.mean())/var.std()\n",
    "df = df.dropna(subset = [ind]).sort_values(by = 'var_Z')\n",
    "df.head(10)"
   ]
  },
  {
   "cell_type": "code",
   "execution_count": 73,
   "id": "48d554f9",
   "metadata": {},
   "outputs": [
    {
     "data": {
      "text/plain": [
       "15509.761372989691"
      ]
     },
     "execution_count": 73,
     "metadata": {},
     "output_type": "execute_result"
    }
   ],
   "source": [
    "promedio = df[\"gle_cgdpc\"].mean()\n",
    "promedio"
   ]
  },
  {
   "cell_type": "code",
   "execution_count": 74,
   "id": "fac15237",
   "metadata": {},
   "outputs": [
    {
     "data": {
      "text/plain": [
       "19528.486558837354"
      ]
     },
     "execution_count": 74,
     "metadata": {},
     "output_type": "execute_result"
    }
   ],
   "source": [
    "desv = df[\"gle_cgdpc\"].std()\n",
    "desv"
   ]
  },
  {
   "cell_type": "code",
   "execution_count": 77,
   "id": "1fe76e64",
   "metadata": {},
   "outputs": [
    {
     "data": {
      "text/plain": [
       "-0.7776128133246276"
      ]
     },
     "execution_count": 77,
     "metadata": {},
     "output_type": "execute_result"
    }
   ],
   "source": [
    "a = (324.16000- 15509.761372989691) / 19528.486558837354\n",
    "a"
   ]
  },
  {
   "cell_type": "code",
   "execution_count": 16,
   "id": "7c26a27b",
   "metadata": {},
   "outputs": [
    {
     "data": {
      "text/html": [
       "<div>\n",
       "<style scoped>\n",
       "    .dataframe tbody tr th:only-of-type {\n",
       "        vertical-align: middle;\n",
       "    }\n",
       "\n",
       "    .dataframe tbody tr th {\n",
       "        vertical-align: top;\n",
       "    }\n",
       "\n",
       "    .dataframe thead th {\n",
       "        text-align: right;\n",
       "    }\n",
       "</style>\n",
       "<table border=\"1\" class=\"dataframe\">\n",
       "  <thead>\n",
       "    <tr style=\"text-align: right;\">\n",
       "      <th></th>\n",
       "      <th>undp_hdi</th>\n",
       "      <th>ccodealp</th>\n",
       "      <th>ht_region</th>\n",
       "      <th>gle_cgdpc</th>\n",
       "      <th>imf_pop</th>\n",
       "      <th>wef_imort</th>\n",
       "      <th>who_alc2000</th>\n",
       "      <th>who_tobt</th>\n",
       "      <th>wdi_exph</th>\n",
       "      <th>cname</th>\n",
       "      <th>flagnull</th>\n",
       "      <th>var_Z</th>\n",
       "    </tr>\n",
       "  </thead>\n",
       "  <tbody>\n",
       "    <tr>\n",
       "      <th>43</th>\n",
       "      <td>0.902</td>\n",
       "      <td>JPN</td>\n",
       "      <td>EastAsia</td>\n",
       "      <td>36123.770</td>\n",
       "      <td>127.120003</td>\n",
       "      <td>2.2</td>\n",
       "      <td>7.55</td>\n",
       "      <td>22.799999</td>\n",
       "      <td>10.228745</td>\n",
       "      <td>Japan</td>\n",
       "      <td>False</td>\n",
       "      <td>1.250840</td>\n",
       "    </tr>\n",
       "    <tr>\n",
       "      <th>28</th>\n",
       "      <td>0.919</td>\n",
       "      <td>CAN</td>\n",
       "      <td>WesternDem</td>\n",
       "      <td>36577.078</td>\n",
       "      <td>35.495998</td>\n",
       "      <td>4.7</td>\n",
       "      <td>8.10</td>\n",
       "      <td>16.200001</td>\n",
       "      <td>10.449582</td>\n",
       "      <td>Canada</td>\n",
       "      <td>False</td>\n",
       "      <td>1.277133</td>\n",
       "    </tr>\n",
       "    <tr>\n",
       "      <th>13</th>\n",
       "      <td>0.892</td>\n",
       "      <td>AUT</td>\n",
       "      <td>WesternDem</td>\n",
       "      <td>38868.039</td>\n",
       "      <td>8.544000</td>\n",
       "      <td>3.3</td>\n",
       "      <td>12.32</td>\n",
       "      <td>NaN</td>\n",
       "      <td>11.205473</td>\n",
       "      <td>Austria</td>\n",
       "      <td>False</td>\n",
       "      <td>1.410014</td>\n",
       "    </tr>\n",
       "    <tr>\n",
       "      <th>42</th>\n",
       "      <td>0.909</td>\n",
       "      <td>SWE</td>\n",
       "      <td>WesternDem</td>\n",
       "      <td>39000.910</td>\n",
       "      <td>9.645000</td>\n",
       "      <td>2.3</td>\n",
       "      <td>7.30</td>\n",
       "      <td>21.900000</td>\n",
       "      <td>11.929840</td>\n",
       "      <td>Sweden</td>\n",
       "      <td>False</td>\n",
       "      <td>1.417721</td>\n",
       "    </tr>\n",
       "    <tr>\n",
       "      <th>69</th>\n",
       "      <td>0.918</td>\n",
       "      <td>USA</td>\n",
       "      <td>WesternDem</td>\n",
       "      <td>47769.699</td>\n",
       "      <td>318.789001</td>\n",
       "      <td>6.0</td>\n",
       "      <td>8.82</td>\n",
       "      <td>18.100000</td>\n",
       "      <td>17.140755</td>\n",
       "      <td>United States</td>\n",
       "      <td>False</td>\n",
       "      <td>1.926333</td>\n",
       "    </tr>\n",
       "    <tr>\n",
       "      <th>37</th>\n",
       "      <td>0.938</td>\n",
       "      <td>CHE</td>\n",
       "      <td>WesternDem</td>\n",
       "      <td>50454.410</td>\n",
       "      <td>8.140000</td>\n",
       "      <td>3.7</td>\n",
       "      <td>9.61</td>\n",
       "      <td>24.100000</td>\n",
       "      <td>11.659268</td>\n",
       "      <td>Switzerland</td>\n",
       "      <td>False</td>\n",
       "      <td>2.082053</td>\n",
       "    </tr>\n",
       "    <tr>\n",
       "      <th>2</th>\n",
       "      <td>0.924</td>\n",
       "      <td>SGP</td>\n",
       "      <td>SouthEastAsia</td>\n",
       "      <td>54268.148</td>\n",
       "      <td>5.470000</td>\n",
       "      <td>2.3</td>\n",
       "      <td>1.83</td>\n",
       "      <td>16.200001</td>\n",
       "      <td>4.922792</td>\n",
       "      <td>Singapore</td>\n",
       "      <td>False</td>\n",
       "      <td>2.303259</td>\n",
       "    </tr>\n",
       "    <tr>\n",
       "      <th>34</th>\n",
       "      <td>0.948</td>\n",
       "      <td>NOR</td>\n",
       "      <td>WesternDem</td>\n",
       "      <td>57634.770</td>\n",
       "      <td>5.156000</td>\n",
       "      <td>2.2</td>\n",
       "      <td>6.06</td>\n",
       "      <td>24.100000</td>\n",
       "      <td>9.719718</td>\n",
       "      <td>Norway</td>\n",
       "      <td>False</td>\n",
       "      <td>2.498532</td>\n",
       "    </tr>\n",
       "    <tr>\n",
       "      <th>29</th>\n",
       "      <td>0.896</td>\n",
       "      <td>LUX</td>\n",
       "      <td>WesternDem</td>\n",
       "      <td>61404.480</td>\n",
       "      <td>0.550000</td>\n",
       "      <td>1.7</td>\n",
       "      <td>11.12</td>\n",
       "      <td>24.400000</td>\n",
       "      <td>6.937873</td>\n",
       "      <td>Luxembourg</td>\n",
       "      <td>False</td>\n",
       "      <td>2.717184</td>\n",
       "    </tr>\n",
       "    <tr>\n",
       "      <th>9</th>\n",
       "      <td>NaN</td>\n",
       "      <td>MCO</td>\n",
       "      <td>WesternDem</td>\n",
       "      <td>108481.130</td>\n",
       "      <td>NaN</td>\n",
       "      <td>NaN</td>\n",
       "      <td>NaN</td>\n",
       "      <td>NaN</td>\n",
       "      <td>4.337683</td>\n",
       "      <td>Monaco</td>\n",
       "      <td>False</td>\n",
       "      <td>5.447748</td>\n",
       "    </tr>\n",
       "  </tbody>\n",
       "</table>\n",
       "</div>"
      ],
      "text/plain": [
       "    undp_hdi ccodealp      ht_region   gle_cgdpc     imf_pop  wef_imort  \\\n",
       "43     0.902      JPN       EastAsia   36123.770  127.120003        2.2   \n",
       "28     0.919      CAN     WesternDem   36577.078   35.495998        4.7   \n",
       "13     0.892      AUT     WesternDem   38868.039    8.544000        3.3   \n",
       "42     0.909      SWE     WesternDem   39000.910    9.645000        2.3   \n",
       "69     0.918      USA     WesternDem   47769.699  318.789001        6.0   \n",
       "37     0.938      CHE     WesternDem   50454.410    8.140000        3.7   \n",
       "2      0.924      SGP  SouthEastAsia   54268.148    5.470000        2.3   \n",
       "34     0.948      NOR     WesternDem   57634.770    5.156000        2.2   \n",
       "29     0.896      LUX     WesternDem   61404.480    0.550000        1.7   \n",
       "9        NaN      MCO     WesternDem  108481.130         NaN        NaN   \n",
       "\n",
       "    who_alc2000   who_tobt   wdi_exph          cname  flagnull     var_Z  \n",
       "43         7.55  22.799999  10.228745          Japan     False  1.250840  \n",
       "28         8.10  16.200001  10.449582         Canada     False  1.277133  \n",
       "13        12.32        NaN  11.205473        Austria     False  1.410014  \n",
       "42         7.30  21.900000  11.929840         Sweden     False  1.417721  \n",
       "69         8.82  18.100000  17.140755  United States     False  1.926333  \n",
       "37         9.61  24.100000  11.659268    Switzerland     False  2.082053  \n",
       "2          1.83  16.200001   4.922792      Singapore     False  2.303259  \n",
       "34         6.06  24.100000   9.719718         Norway     False  2.498532  \n",
       "29        11.12  24.400000   6.937873     Luxembourg     False  2.717184  \n",
       "9           NaN        NaN   4.337683         Monaco     False  5.447748  "
      ]
     },
     "execution_count": 16,
     "metadata": {},
     "output_type": "execute_result"
    }
   ],
   "source": [
    "# Utiliza esta celda para seleccionar y mostrar las últimas 10 observaciones\n",
    "df.tail(10)"
   ]
  },
  {
   "cell_type": "markdown",
   "id": "0df42e91",
   "metadata": {},
   "source": [
    "**¿Qué características en común se encuentran?**\n",
    "\n",
    "**Respuesta:** Tengo entendido que el gle_cgdpc es el Pib percapita, se aprecia que los paises menos desarrollados pertenecientes a las regiones de SubSaharian tiene valores z menores a diferencia de los paises desarrollados o del primer mundo que principalmente son de la region WesternDem."
   ]
  },
  {
   "cell_type": "code",
   "execution_count": null,
   "id": "a57be159",
   "metadata": {},
   "outputs": [],
   "source": []
  },
  {
   "cell_type": "code",
   "execution_count": 78,
   "id": "129aecda",
   "metadata": {},
   "outputs": [],
   "source": [
    "#df['z1']= (df['undp_hdi'] -df['undp_hdi'].mean())/np.std(df['undp_hdi'])\n",
    "#df['z3']= (df['imf_pop'] -df['imf_pop'].mean())/np.std(df['imf_pop'])\n",
    "#df['z4']= (df['wef_imort'] -df['wef_imort'].mean())/np.std(df['wef_imort'])\n",
    "#df['z5']= (df['who_alc2000'] -df['who_alc2000'].mean())/np.std(df['who_alc2000'])\n",
    "#df['z5']= (df['who_tobt'] -df['who_tobt'].mean())/np.std(df['who_tobt'])\n",
    "#df['z2']= (df['gle_cgdpc'] -df['gle_cgdpc'].mean())/np.std(df['gle_cgdpc'])"
   ]
  },
  {
   "cell_type": "code",
   "execution_count": 79,
   "id": "1734737a",
   "metadata": {},
   "outputs": [
    {
     "data": {
      "text/html": [
       "<div>\n",
       "<style scoped>\n",
       "    .dataframe tbody tr th:only-of-type {\n",
       "        vertical-align: middle;\n",
       "    }\n",
       "\n",
       "    .dataframe tbody tr th {\n",
       "        vertical-align: top;\n",
       "    }\n",
       "\n",
       "    .dataframe thead th {\n",
       "        text-align: right;\n",
       "    }\n",
       "</style>\n",
       "<table border=\"1\" class=\"dataframe\">\n",
       "  <thead>\n",
       "    <tr style=\"text-align: right;\">\n",
       "      <th></th>\n",
       "      <th>undp_hdi</th>\n",
       "      <th>ccodealp</th>\n",
       "      <th>ht_region</th>\n",
       "      <th>gle_cgdpc</th>\n",
       "      <th>imf_pop</th>\n",
       "      <th>wef_imort</th>\n",
       "      <th>who_alc2000</th>\n",
       "      <th>who_tobt</th>\n",
       "      <th>wdi_exph</th>\n",
       "      <th>cname</th>\n",
       "      <th>var_Z</th>\n",
       "      <th>z5</th>\n",
       "    </tr>\n",
       "  </thead>\n",
       "  <tbody>\n",
       "    <tr>\n",
       "      <th>91</th>\n",
       "      <td>0.688</td>\n",
       "      <td>TKM</td>\n",
       "      <td>EastEurope</td>\n",
       "      <td>13217.3900</td>\n",
       "      <td>NaN</td>\n",
       "      <td>NaN</td>\n",
       "      <td>2.90</td>\n",
       "      <td>NaN</td>\n",
       "      <td>2.067386</td>\n",
       "      <td>Turkmenistan</td>\n",
       "      <td>-0.117386</td>\n",
       "      <td>-1.826241</td>\n",
       "    </tr>\n",
       "    <tr>\n",
       "      <th>82</th>\n",
       "      <td>0.552</td>\n",
       "      <td>MMR</td>\n",
       "      <td>SouthEastAsia</td>\n",
       "      <td>5733.3701</td>\n",
       "      <td>51.418999</td>\n",
       "      <td>41.099998</td>\n",
       "      <td>0.70</td>\n",
       "      <td>20.000000</td>\n",
       "      <td>2.275755</td>\n",
       "      <td>Myanmar</td>\n",
       "      <td>-0.500622</td>\n",
       "      <td>-1.743306</td>\n",
       "    </tr>\n",
       "    <tr>\n",
       "      <th>27</th>\n",
       "      <td>0.548</td>\n",
       "      <td>PAK</td>\n",
       "      <td>SouthAsia</td>\n",
       "      <td>2855.5500</td>\n",
       "      <td>186.190002</td>\n",
       "      <td>69.300003</td>\n",
       "      <td>0.04</td>\n",
       "      <td>22.600000</td>\n",
       "      <td>2.613916</td>\n",
       "      <td>Pakistan (1971-)</td>\n",
       "      <td>-0.647987</td>\n",
       "      <td>-1.608711</td>\n",
       "    </tr>\n",
       "    <tr>\n",
       "      <th>94</th>\n",
       "      <td>0.864</td>\n",
       "      <td>BRN</td>\n",
       "      <td>SouthEastAsia</td>\n",
       "      <td>46103.8400</td>\n",
       "      <td>0.412000</td>\n",
       "      <td>5.600000</td>\n",
       "      <td>0.97</td>\n",
       "      <td>16.400000</td>\n",
       "      <td>2.648163</td>\n",
       "      <td>Brunei</td>\n",
       "      <td>1.566638</td>\n",
       "      <td>-1.595080</td>\n",
       "    </tr>\n",
       "    <tr>\n",
       "      <th>84</th>\n",
       "      <td>0.511</td>\n",
       "      <td>MDG</td>\n",
       "      <td>SubSaharian</td>\n",
       "      <td>822.6200</td>\n",
       "      <td>NaN</td>\n",
       "      <td>40.900002</td>\n",
       "      <td>0.87</td>\n",
       "      <td>NaN</td>\n",
       "      <td>3.041355</td>\n",
       "      <td>Madagascar</td>\n",
       "      <td>-0.752088</td>\n",
       "      <td>-1.438581</td>\n",
       "    </tr>\n",
       "    <tr>\n",
       "      <th>74</th>\n",
       "      <td>0.799</td>\n",
       "      <td>KWT</td>\n",
       "      <td>NorthAfrica</td>\n",
       "      <td>64342.7110</td>\n",
       "      <td>3.999000</td>\n",
       "      <td>9.500000</td>\n",
       "      <td>0.02</td>\n",
       "      <td>NaN</td>\n",
       "      <td>3.042368</td>\n",
       "      <td>Kuwait</td>\n",
       "      <td>2.500601</td>\n",
       "      <td>-1.438178</td>\n",
       "    </tr>\n",
       "    <tr>\n",
       "      <th>41</th>\n",
       "      <td>0.553</td>\n",
       "      <td>SYR</td>\n",
       "      <td>NorthAfrica</td>\n",
       "      <td>4284.4199</td>\n",
       "      <td>NaN</td>\n",
       "      <td>14.200000</td>\n",
       "      <td>0.76</td>\n",
       "      <td>NaN</td>\n",
       "      <td>3.254531</td>\n",
       "      <td>Syria</td>\n",
       "      <td>-0.574819</td>\n",
       "      <td>-1.353733</td>\n",
       "    </tr>\n",
       "    <tr>\n",
       "      <th>12</th>\n",
       "      <td>NaN</td>\n",
       "      <td>NRU</td>\n",
       "      <td>Pacific</td>\n",
       "      <td>3130.4700</td>\n",
       "      <td>0.012000</td>\n",
       "      <td>NaN</td>\n",
       "      <td>NaN</td>\n",
       "      <td>48.900002</td>\n",
       "      <td>3.326649</td>\n",
       "      <td>Nauru</td>\n",
       "      <td>-0.633909</td>\n",
       "      <td>-1.325028</td>\n",
       "    </tr>\n",
       "    <tr>\n",
       "      <th>50</th>\n",
       "      <td>0.418</td>\n",
       "      <td>ERI</td>\n",
       "      <td>SubSaharian</td>\n",
       "      <td>1007.2800</td>\n",
       "      <td>NaN</td>\n",
       "      <td>NaN</td>\n",
       "      <td>0.62</td>\n",
       "      <td>NaN</td>\n",
       "      <td>3.338293</td>\n",
       "      <td>Eritrea</td>\n",
       "      <td>-0.742632</td>\n",
       "      <td>-1.320394</td>\n",
       "    </tr>\n",
       "    <tr>\n",
       "      <th>43</th>\n",
       "      <td>0.694</td>\n",
       "      <td>GAB</td>\n",
       "      <td>SubSaharian</td>\n",
       "      <td>14525.2800</td>\n",
       "      <td>NaN</td>\n",
       "      <td>42.400002</td>\n",
       "      <td>8.86</td>\n",
       "      <td>NaN</td>\n",
       "      <td>3.437472</td>\n",
       "      <td>Gabon</td>\n",
       "      <td>-0.050413</td>\n",
       "      <td>-1.280919</td>\n",
       "    </tr>\n",
       "  </tbody>\n",
       "</table>\n",
       "</div>"
      ],
      "text/plain": [
       "    undp_hdi ccodealp      ht_region   gle_cgdpc     imf_pop  wef_imort  \\\n",
       "91     0.688      TKM     EastEurope  13217.3900         NaN        NaN   \n",
       "82     0.552      MMR  SouthEastAsia   5733.3701   51.418999  41.099998   \n",
       "27     0.548      PAK      SouthAsia   2855.5500  186.190002  69.300003   \n",
       "94     0.864      BRN  SouthEastAsia  46103.8400    0.412000   5.600000   \n",
       "84     0.511      MDG    SubSaharian    822.6200         NaN  40.900002   \n",
       "74     0.799      KWT    NorthAfrica  64342.7110    3.999000   9.500000   \n",
       "41     0.553      SYR    NorthAfrica   4284.4199         NaN  14.200000   \n",
       "12       NaN      NRU        Pacific   3130.4700    0.012000        NaN   \n",
       "50     0.418      ERI    SubSaharian   1007.2800         NaN        NaN   \n",
       "43     0.694      GAB    SubSaharian  14525.2800         NaN  42.400002   \n",
       "\n",
       "    who_alc2000   who_tobt  wdi_exph             cname     var_Z        z5  \n",
       "91         2.90        NaN  2.067386      Turkmenistan -0.117386 -1.826241  \n",
       "82         0.70  20.000000  2.275755           Myanmar -0.500622 -1.743306  \n",
       "27         0.04  22.600000  2.613916  Pakistan (1971-) -0.647987 -1.608711  \n",
       "94         0.97  16.400000  2.648163            Brunei  1.566638 -1.595080  \n",
       "84         0.87        NaN  3.041355        Madagascar -0.752088 -1.438581  \n",
       "74         0.02        NaN  3.042368            Kuwait  2.500601 -1.438178  \n",
       "41         0.76        NaN  3.254531             Syria -0.574819 -1.353733  \n",
       "12          NaN  48.900002  3.326649             Nauru -0.633909 -1.325028  \n",
       "50         0.62        NaN  3.338293           Eritrea -0.742632 -1.320394  \n",
       "43         8.86        NaN  3.437472             Gabon -0.050413 -1.280919  "
      ]
     },
     "execution_count": 79,
     "metadata": {},
     "output_type": "execute_result"
    }
   ],
   "source": [
    "df['z5']= (df['wdi_exph'] -df['wdi_exph'].mean())/np.std(df['wdi_exph'])\n",
    "df = df.dropna(subset = ['wdi_exph']).sort_values(by = 'z5')\n",
    "\n",
    "df.head(10)"
   ]
  },
  {
   "cell_type": "markdown",
   "id": "4144ba71",
   "metadata": {},
   "source": [
    "### 4. Estimar el puntaje z de las regiones (2 puntos). \n",
    "Utilizando el resultado anterior, visualice su nueva variable estandarizada (es decir, luego de calcular el puntaje Z).\n",
    "- Para ello realice un `dotplot` que muestre el valor promedio de su variable por cada región.\n",
    "- Agregue además una línea que muestre el promedio total de la variable (es decir, antes de agrupar)"
   ]
  },
  {
   "cell_type": "code",
   "execution_count": 84,
   "id": "838d9a30",
   "metadata": {},
   "outputs": [
    {
     "data": {
      "image/png": "[encoded data removed]",
      "text/plain": [
       "<Figure size 432x288 with 1 Axes>"
      ]
     },
     "metadata": {},
     "output_type": "display_data"
    }
   ],
   "source": [
    "# Utiliza esta celda para realizar el gráfico solicitado\n",
    "\n",
    "plt.style.use('ggplot') # estilo opcional\n",
    "new_data = df.groupby('ht_region')['var_Z'].mean()\n",
    "plt.plot(new_data, new_data.index, 'o')\n",
    "plt.axvline(df['var_Z'].mean(), c = 'b', ls = '--')\n",
    "plt.show()\n"
   ]
  },
  {
   "cell_type": "code",
   "execution_count": 83,
   "id": "cb9edbad",
   "metadata": {},
   "outputs": [
    {
     "data": {
      "image/png": "[encoded data removed]",
      "text/plain": [
       "<Figure size 432x288 with 1 Axes>"
      ]
     },
     "metadata": {},
     "output_type": "display_data"
    }
   ],
   "source": [
    "plt.style.use('ggplot') # estilo opcional\n",
    "new_data = df.groupby('ht_region')['gle_cgdpc'].mean()\n",
    "plt.plot(new_data, new_data.index, 'o')\n",
    "plt.axvline(df['var_Z'].mean(), c = 'b', ls = '--')\n",
    "plt.show()"
   ]
  },
  {
   "cell_type": "markdown",
   "id": "ae25012e",
   "metadata": {},
   "source": [
    "**Comentarios de los resultados**"
   ]
  },
  {
   "cell_type": "code",
   "execution_count": 87,
   "id": "a2dfc6eb",
   "metadata": {},
   "outputs": [],
   "source": [
    "#Se aprecia que cambia el grafico al estandarizarse y los puntos se encuentra graficamente en las mismas posiciones."
   ]
  },
  {
   "cell_type": "markdown",
   "id": "3a229435",
   "metadata": {},
   "source": [
    "### 5. Generar curvas de Densidad de Probabilidad (2 puntos).\n",
    "- Cree una función que permita visualizar las curvas de Densidad de Probabilidad para las variables `imf_pop`, `gle_cgdpc` y `wdi_exph`.\n",
    "- La función debe contener como argumentos:\n",
    "    - `df`: Tabla de datos.\n",
    "    - `variable`: Variable a contrastar."
   ]
  },
  {
   "cell_type": "code",
   "execution_count": 88,
   "id": "02696912",
   "metadata": {},
   "outputs": [],
   "source": [
    "# Utiliza esta celda para definir la función solicitada\n",
    "from scipy import stats\n",
    "\n",
    "\n",
    "def plot_densities(df, variable):\n",
    "    \n",
    "    mu_1 = df[variable].dropna().mean()\n",
    "    sigma_1 = np.std(df[variable].dropna())\n",
    "    \n",
    "    infer_x_axis = np.linspace(df[variable].min(), df[variable].max())\n",
    "    plt.plot(infer_x_axis,\n",
    "        stats.norm.pdf(infer_x_axis, mu_1, sigma_1),\n",
    "        label = f\"Curva de Densidad PDF para {variable}\")\n",
    "    plt.legend()\n"
   ]
  },
  {
   "cell_type": "code",
   "execution_count": 89,
   "id": "9b822e6c",
   "metadata": {},
   "outputs": [
    {
     "data": {
      "image/png": "[encoded data removed]",
      "text/plain": [
       "<Figure size 432x288 with 1 Axes>"
      ]
     },
     "metadata": {},
     "output_type": "display_data"
    }
   ],
   "source": [
    "# Utiliza esta celda para llamar la función para imf_pop\n",
    "plot_densities(df, 'imf_pop')"
   ]
  },
  {
   "cell_type": "code",
   "execution_count": 90,
   "id": "3ffcfd2f",
   "metadata": {},
   "outputs": [
    {
     "data": {
      "image/png": "[encoded data removed]",
      "text/plain": [
       "<Figure size 432x288 with 1 Axes>"
      ]
     },
     "metadata": {},
     "output_type": "display_data"
    }
   ],
   "source": [
    "# Utiliza esta celda para llamar la función para gle_cgdpc\n",
    "plot_densities(df,'gle_cgdpc')\n"
   ]
  },
  {
   "cell_type": "code",
   "execution_count": 91,
   "id": "a233940d",
   "metadata": {},
   "outputs": [
    {
     "data": {
      "image/png": "[encoded data removed]",
      "text/plain": [
       "<Figure size 432x288 with 1 Axes>"
      ]
     },
     "metadata": {},
     "output_type": "display_data"
    }
   ],
   "source": [
    "# Utiliza esta celda para llamar la función para wdi_exph\n",
    "plot_densities(df,'wdi_exph')"
   ]
  },
  {
   "cell_type": "markdown",
   "id": "9baa5aca",
   "metadata": {},
   "source": [
    "**Comentarios de los resultados**"
   ]
  },
  {
   "cell_type": "code",
   "execution_count": null,
   "id": "5fb29432",
   "metadata": {},
   "outputs": [],
   "source": [
    "#para 'wdi_exph' tiene una distribución normal, sus datos principlamente estan concentrados entorno a la media, las dos restantes\n",
    "#tienen un comportamiento normal pero su diferencia es que los rangos de datos son mayores."
   ]
  },
  {
   "cell_type": "code",
   "execution_count": null,
   "id": "7739fa9a",
   "metadata": {},
   "outputs": [],
   "source": []
  },
  {
   "cell_type": "code",
   "execution_count": null,
   "id": "3e374b24",
   "metadata": {},
   "outputs": [],
   "source": []
  },
  {
   "cell_type": "code",
   "execution_count": null,
   "id": "4da2aecc",
   "metadata": {},
   "outputs": [],
   "source": []
  }
 ],
 "metadata": {
  "kernelspec": {
   "display_name": "Python 3 (ipykernel)",
   "language": "python",
   "name": "python3"
  },
  "language_info": {
   "codemirror_mode": {
    "name": "ipython",
    "version": 3
   },
   "file_extension": ".py",
   "mimetype": "text/x-python",
   "name": "python",
   "nbconvert_exporter": "python",
   "pygments_lexer": "ipython3",
   "version": "3.9.7"
  }
 },
 "nbformat": 4,
 "nbformat_minor": 5
}
